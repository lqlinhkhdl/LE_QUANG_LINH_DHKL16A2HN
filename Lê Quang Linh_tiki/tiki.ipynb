{
 "cells": [
  {
   "cell_type": "code",
   "execution_count": 2,
   "metadata": {},
   "outputs": [],
   "source": [
    "import pandas  as pd\n",
    "import requests"
   ]
  },
  {
   "cell_type": "code",
   "execution_count": 3,
   "metadata": {},
   "outputs": [],
   "source": [
    "url = 'https://tiki.vn/api/v2/products?limit=10&q=s%C3%A1ch'\n",
    "params = {\n",
    "    'q': 'sách',\n",
    "    'limit': 10}"
   ]
  },
  {
   "cell_type": "code",
   "execution_count": 4,
   "metadata": {},
   "outputs": [],
   "source": [
    "headers = {\n",
    "    'User-Agent': 'Mozilla/5.0'}\n",
    "response = requests.get(url, headers=headers, params=params)\n",
    "data = response.json()"
   ]
  },
  {
   "cell_type": "code",
   "execution_count": 6,
   "metadata": {},
   "outputs": [
    {
     "name": "stdout",
     "output_type": "stream",
     "text": [
      "                                                name  price thuonghieu\n",
      "0  Sách - Bộ sách giao tiếp - Thuật thôi miên tro...     78        N/A\n",
      "1               Sách - Phương Pháp Đọc Sách Hiệu Quả    129        N/A\n",
      "2                                Đọc Sách, Điểm Sách     40        N/A\n",
      "3  Sách Phân Tâm Học Nhập Môn (Tặng kèm Bộ Bookma...    143        N/A\n",
      "4  Sách Nghệ Thuật Tư Duy Rành Mạch (Tặng kèm Bộ ...    106        N/A\n",
      "5            Sách - Làm thế nào để đọc sách hiệu quả     80        N/A\n",
      "6                        Sách - Bản Thiết Kế Trí Tuệ    127        N/A\n",
      "7  Sách Bức Xúc Không Làm Ta Vô Can (Tặng kèm Bộ ...     85        N/A\n",
      "8  Sách Phương Pháp Đọc Sách Hiệu Quả (Tái bản Mớ...    134        N/A\n",
      "9  Phương Pháp Đọc Sách Hiệu Quả (*** Sách Bản Qu...    134        N/A\n"
     ]
    }
   ],
   "source": [
    "book = []\n",
    "for item in data['data']:\n",
    "    book.append({\n",
    "        'name': item['name'],\n",
    "        'price': item['price']//1000,\n",
    "        'thuonghieu': item.get('brand',{}).get('name','N/A')})\n",
    "df = pd.DataFrame(book)\n",
    "print(df)\n"
   ]
  },
  {
   "cell_type": "code",
   "execution_count": 7,
   "metadata": {},
   "outputs": [],
   "source": [
    "import requests\n",
    "from bs4 import BeautifulSoup"
   ]
  },
  {
   "cell_type": "code",
   "execution_count": 8,
   "metadata": {},
   "outputs": [
    {
     "name": "stdout",
     "output_type": "stream",
     "text": [
      "Tieu de trang \n",
      "    All products | Books to Scrape - Sandbox\n",
      "\n"
     ]
    }
   ],
   "source": [
    "url = 'https://books.toscrape.com'\n",
    "response = requests.get(url)\n",
    "\n",
    "#phan tich html\n",
    "soup = BeautifulSoup(response.text, 'html.parser')\n",
    "\n",
    "page_tital = soup.title.text\n",
    "print('Tieu de trang',page_tital)"
   ]
  },
  {
   "cell_type": "code",
   "execution_count": 1,
   "metadata": {},
   "outputs": [
    {
     "name": "stdout",
     "output_type": "stream",
     "text": [
      "['\\\\Device\\\\NPF_{CB1AE45E-1A34-4C48-87A9-2DA89DB03332}', '\\\\Device\\\\NPF_{38CB8104-7698-4AE7-9DE8-F32FF6A9CAF7}', '\\\\Device\\\\NPF_{A5149DA9-4E98-42BA-8DC7-67951C427C99}', '\\\\Device\\\\NPF_{188A13B5-70F1-429B-BCB5-DDDF2877FA55}', '\\\\Device\\\\NPF_{CBF1E104-0127-11F0-95C9-806E6F6E6963}', '\\\\Device\\\\NPF_{34814868-0A06-11F0-95EE-806E6F6E6963}', '\\\\Device\\\\NPF_{34814869-0A06-11F0-95EE-806E6F6E6963}', '\\\\Device\\\\NPF_{3481486A-0A06-11F0-95EE-806E6F6E6963}', '\\\\Device\\\\NPF_{348149D1-0A06-11F0-95EE-83AFF5B11F01}', '\\\\Device\\\\NPF_{348149D2-0A06-11F0-95EE-83AFF5B11F01}', '\\\\Device\\\\NPF_{348149D3-0A06-11F0-95EE-83AFF5B11F01}', '\\\\Device\\\\NPF_{348149D4-0A06-11F0-95EE-83AFF5B11F01}', '\\\\Device\\\\NPF_{348149D5-0A06-11F0-95EE-83AFF5B11F01}', '\\\\Device\\\\NPF_{348149D6-0A06-11F0-95EE-83AFF5B11F01}', '\\\\Device\\\\NPF_{DA793C71-AED5-4FAB-94AB-81BEDEC959DA}', '\\\\Device\\\\NPF_{1D3D58AA-866C-4E6A-B51B-51BAB7D1CA0C}', '\\\\Device\\\\NPF_{68D16A46-1D05-45F2-A695-D88ABC0338D8}', '\\\\Device\\\\NPF_{FFE87C3A-D95F-4F6A-86D7-C010760440F6}', '\\\\Device\\\\NPF_{562C7453-D516-4852-B3A6-91665C312670}', '\\\\Device\\\\NPF_{14D59CBD-834C-4781-BD4B-948385DB605A}', '\\\\Device\\\\NPF_{348148C1-0A06-11F0-95EE-3003C848B3D7}', '\\\\Device\\\\NPF_{17B26B85-00AB-11F0-95CD-FE458508FD44}', '\\\\Device\\\\NPF_{17B26B86-00AB-11F0-95CD-FE458508FD44}', '\\\\Device\\\\NPF_{348148C2-0A06-11F0-95EE-3003C848B3D7}', '\\\\Device\\\\NPF_{348148C3-0A06-11F0-95EE-3003C848B3D7}', '\\\\Device\\\\NPF_{348148F2-0A06-11F0-95EE-3003C848B3D7}', '\\\\Device\\\\NPF_{17B26B90-00AB-11F0-95CD-FE458508FD44}', '\\\\Device\\\\NPF_{348148FA-0A06-11F0-95EE-3003C848B3D7}', '\\\\Device\\\\NPF_{348148FB-0A06-11F0-95EE-3003C848B3D7}', '\\\\Device\\\\NPF_{34814A0B-0A06-11F0-95EE-83AFF5B11F01}', '\\\\Device\\\\NPF_{AA541A37-00AD-11F0-95CE-CC9C80A49F2E}', '\\\\Device\\\\NPF_{34814A0C-0A06-11F0-95EE-83AFF5B11F01}', '\\\\Device\\\\NPF_{34814A0D-0A06-11F0-95EE-83AFF5B11F01}', '\\\\Device\\\\NPF_{93123211-9629-4E04-82F0-EA2E4F221468}', '\\\\Device\\\\NPF_{2EE2C70C-A092-4D88-A654-98C8D7645CD5}', '\\\\Device\\\\NPF_{07374750-E68B-490E-9330-9FD785CD71B6}', '\\\\Device\\\\NPF_{03BB345F-B374-4E60-93F9-983E8DE16D06}', '\\\\Device\\\\NPF_{BCDFB846-CEE1-4721-8018-2728182B3F86}', '\\\\Device\\\\NPF_{83071E4A-645A-40A9-8317-66841890E2BC}', '\\\\Device\\\\NPF_{E066DAA2-52B7-4010-82DB-715EC62FC05D}']\n",
      "-\\Device\\NPF_{CB1AE45E-1A34-4C48-87A9-2DA89DB03332}\n",
      "-\\Device\\NPF_{38CB8104-7698-4AE7-9DE8-F32FF6A9CAF7}\n",
      "-\\Device\\NPF_{A5149DA9-4E98-42BA-8DC7-67951C427C99}\n",
      "-\\Device\\NPF_{188A13B5-70F1-429B-BCB5-DDDF2877FA55}\n",
      "-\\Device\\NPF_{CBF1E104-0127-11F0-95C9-806E6F6E6963}\n",
      "-\\Device\\NPF_{34814868-0A06-11F0-95EE-806E6F6E6963}\n",
      "-\\Device\\NPF_{34814869-0A06-11F0-95EE-806E6F6E6963}\n",
      "-\\Device\\NPF_{3481486A-0A06-11F0-95EE-806E6F6E6963}\n",
      "-\\Device\\NPF_{348149D1-0A06-11F0-95EE-83AFF5B11F01}\n",
      "-\\Device\\NPF_{348149D2-0A06-11F0-95EE-83AFF5B11F01}\n",
      "-\\Device\\NPF_{348149D3-0A06-11F0-95EE-83AFF5B11F01}\n",
      "-\\Device\\NPF_{348149D4-0A06-11F0-95EE-83AFF5B11F01}\n",
      "-\\Device\\NPF_{348149D5-0A06-11F0-95EE-83AFF5B11F01}\n",
      "-\\Device\\NPF_{348149D6-0A06-11F0-95EE-83AFF5B11F01}\n",
      "-\\Device\\NPF_{DA793C71-AED5-4FAB-94AB-81BEDEC959DA}\n",
      "-\\Device\\NPF_{1D3D58AA-866C-4E6A-B51B-51BAB7D1CA0C}\n",
      "-\\Device\\NPF_{68D16A46-1D05-45F2-A695-D88ABC0338D8}\n",
      "-\\Device\\NPF_{FFE87C3A-D95F-4F6A-86D7-C010760440F6}\n",
      "-\\Device\\NPF_{562C7453-D516-4852-B3A6-91665C312670}\n",
      "-\\Device\\NPF_{14D59CBD-834C-4781-BD4B-948385DB605A}\n",
      "-\\Device\\NPF_{348148C1-0A06-11F0-95EE-3003C848B3D7}\n",
      "-\\Device\\NPF_{17B26B85-00AB-11F0-95CD-FE458508FD44}\n",
      "-\\Device\\NPF_{17B26B86-00AB-11F0-95CD-FE458508FD44}\n",
      "-\\Device\\NPF_{348148C2-0A06-11F0-95EE-3003C848B3D7}\n",
      "-\\Device\\NPF_{348148C3-0A06-11F0-95EE-3003C848B3D7}\n",
      "-\\Device\\NPF_{348148F2-0A06-11F0-95EE-3003C848B3D7}\n",
      "-\\Device\\NPF_{17B26B90-00AB-11F0-95CD-FE458508FD44}\n",
      "-\\Device\\NPF_{348148FA-0A06-11F0-95EE-3003C848B3D7}\n",
      "-\\Device\\NPF_{348148FB-0A06-11F0-95EE-3003C848B3D7}\n",
      "-\\Device\\NPF_{34814A0B-0A06-11F0-95EE-83AFF5B11F01}\n",
      "-\\Device\\NPF_{AA541A37-00AD-11F0-95CE-CC9C80A49F2E}\n",
      "-\\Device\\NPF_{34814A0C-0A06-11F0-95EE-83AFF5B11F01}\n",
      "-\\Device\\NPF_{34814A0D-0A06-11F0-95EE-83AFF5B11F01}\n",
      "-\\Device\\NPF_{93123211-9629-4E04-82F0-EA2E4F221468}\n",
      "-\\Device\\NPF_{2EE2C70C-A092-4D88-A654-98C8D7645CD5}\n",
      "-\\Device\\NPF_{07374750-E68B-490E-9330-9FD785CD71B6}\n",
      "-\\Device\\NPF_{03BB345F-B374-4E60-93F9-983E8DE16D06}\n",
      "-\\Device\\NPF_{BCDFB846-CEE1-4721-8018-2728182B3F86}\n",
      "-\\Device\\NPF_{83071E4A-645A-40A9-8317-66841890E2BC}\n",
      "-\\Device\\NPF_{E066DAA2-52B7-4010-82DB-715EC62FC05D}\n"
     ]
    }
   ],
   "source": [
    "from scapy.all import get_if_list,get_if_addr\n",
    "\n",
    "interface_list = get_if_list()\n",
    "print(interface_list)\n",
    "for interface in interface_list:\n",
    "    print(f\"-{interface}\")"
   ]
  },
  {
   "cell_type": "code",
   "execution_count": 7,
   "metadata": {},
   "outputs": [
    {
     "name": "stdout",
     "output_type": "stream",
     "text": [
      "\\Device\\NPF_{E066DAA2-52B7-4010-82DB-715EC62FC05D}:0.0.0.0\n"
     ]
    }
   ],
   "source": [
    "try:\n",
    "    print(f'{interface}:{get_if_addr(interface)}')\n",
    "except Exception as e:\n",
    "    print(f\"Error: {e}\")"
   ]
  }
 ],
 "metadata": {
  "kernelspec": {
   "display_name": "Python 3",
   "language": "python",
   "name": "python3"
  },
  "language_info": {
   "codemirror_mode": {
    "name": "ipython",
    "version": 3
   },
   "file_extension": ".py",
   "mimetype": "text/x-python",
   "name": "python",
   "nbconvert_exporter": "python",
   "pygments_lexer": "ipython3",
   "version": "3.8.8"
  }
 },
 "nbformat": 4,
 "nbformat_minor": 2
}
