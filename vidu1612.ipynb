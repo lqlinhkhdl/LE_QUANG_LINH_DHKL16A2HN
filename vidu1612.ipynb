{
 "cells": [
  {
   "cell_type": "code",
   "execution_count": 4,
   "metadata": {},
   "outputs": [],
   "source": [
    "import requests"
   ]
  },
  {
   "cell_type": "code",
   "execution_count": 5,
   "metadata": {},
   "outputs": [],
   "source": [
    "# URL giả định của API\n",
    "url = \"https://jsonplaceholder.typicode.com/posts\""
   ]
  },
  {
   "cell_type": "code",
   "execution_count": 6,
   "metadata": {},
   "outputs": [
    {
     "name": "stdout",
     "output_type": "stream",
     "text": [
      "GET Response: 200 [{'userId': 1, 'id': 1, 'title': 'sunt aut facere repellat provident occaecati excepturi optio reprehenderit', 'body': 'quia et suscipit\\nsuscipit recusandae consequuntur expedita et cum\\nreprehenderit molestiae ut ut quas totam\\nnostrum rerum est autem sunt rem eveniet architecto'}, {'userId': 1, 'id': 2, 'title': 'qui est esse', 'body': 'est rerum tempore vitae\\nsequi sint nihil reprehenderit dolor beatae ea dolores neque\\nfugiat blanditiis voluptate porro vel nihil molestiae ut reiciendis\\nqui aperiam non debitis possimus qui neque nisi nulla'}]\n"
     ]
    }
   ],
   "source": [
    "# 1. Gửi yêu cầu GET\n",
    "response_get = requests.get(url)\n",
    "print(\"GET Response:\", response_get.status_code, response_get.json()[:2])  # Lấy 2 phần tử đầu để tránh quá nhiều dữ liệu"
   ]
  },
  {
   "cell_type": "code",
   "execution_count": 7,
   "metadata": {},
   "outputs": [
    {
     "name": "stdout",
     "output_type": "stream",
     "text": [
      "POST Response: 201 {'title': 'New Post', 'body': 'This is a new post created via HTTP POST', 'userId': 1, 'id': 101}\n"
     ]
    }
   ],
   "source": [
    "# 2. Gửi yêu cầu POST (tạo dữ liệu mới)\n",
    "new_data = {\n",
    "    \"title\": \"New Post\",\n",
    "    \"body\": \"This is a new post created via HTTP POST\",\n",
    "    \"userId\": 1\n",
    "}\n",
    "response_post = requests.post(url, json=new_data)\n",
    "print(\"POST Response:\", response_post.status_code, response_post.json())"
   ]
  },
  {
   "cell_type": "code",
   "execution_count": 8,
   "metadata": {},
   "outputs": [
    {
     "name": "stdout",
     "output_type": "stream",
     "text": [
      "PUT Response: 200 {'id': 1, 'title': 'Updated Post', 'body': 'This is an updated post', 'userId': 1}\n"
     ]
    }
   ],
   "source": [
    "# 3. Gửi yêu cầu PUT (cập nhật dữ liệu có ID=1)\n",
    "update_data = {\n",
    "    \"id\": 1,\n",
    "    \"title\": \"Updated Post\",\n",
    "    \"body\": \"This is an updated post\",\n",
    "    \"userId\": 1\n",
    "}\n",
    "response_put = requests.put(f\"{url}/1\", json=update_data)\n",
    "print(\"PUT Response:\", response_put.status_code, response_put.json())"
   ]
  },
  {
   "cell_type": "code",
   "execution_count": 9,
   "metadata": {},
   "outputs": [
    {
     "name": "stdout",
     "output_type": "stream",
     "text": [
      "DELETE Response: 200\n"
     ]
    }
   ],
   "source": [
    "# 4. Gửi yêu cầu DELETE (xóa dữ liệu có ID=1)\n",
    "response_delete = requests.delete(f\"{url}/1\")\n",
    "print(\"DELETE Response:\", response_delete.status_code)"
   ]
  }
 ],
 "metadata": {
  "kernelspec": {
   "display_name": "Python 3",
   "language": "python",
   "name": "python3"
  },
  "language_info": {
   "codemirror_mode": {
    "name": "ipython",
    "version": 3
   },
   "file_extension": ".py",
   "mimetype": "text/x-python",
   "name": "python",
   "nbconvert_exporter": "python",
   "pygments_lexer": "ipython3",
   "version": "3.12.3"
  }
 },
 "nbformat": 4,
 "nbformat_minor": 2
}
