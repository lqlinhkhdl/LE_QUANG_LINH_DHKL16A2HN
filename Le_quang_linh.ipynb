{
 "cells": [
  {
   "cell_type": "code",
   "execution_count": 1,
   "metadata": {},
   "outputs": [
    {
     "name": "stdout",
     "output_type": "stream",
     "text": [
      "\\Device\\NPF_{FFE87C3A-D95F-4F6A-86D7-C010760440F6}: 0.0.0.0\n",
      "\\Device\\NPF_{68D16A46-1D05-45F2-A695-D88ABC0338D8}: 0.0.0.0\n",
      "\\Device\\NPF_{1D3D58AA-866C-4E6A-B51B-51BAB7D1CA0C}: 0.0.0.0\n",
      "\\Device\\NPF_{188A13B5-70F1-429B-BCB5-DDDF2877FA55}: 192.168.2.101\n",
      "\\Device\\NPF_{581E99DA-6887-41BA-998D-34E9E0352789}: 192.168.227.1\n",
      "\\Device\\NPF_{8F519B04-457C-4CDB-B818-5AA3F5F212F3}: 192.168.29.1\n",
      "\\Device\\NPF_{A5149DA9-4E98-42BA-8DC7-67951C427C99}: 169.254.42.137\n",
      "\\Device\\NPF_{38CB8104-7698-4AE7-9DE8-F32FF6A9CAF7}: 169.254.218.144\n",
      "\\Device\\NPF_Loopback: 127.0.0.1\n",
      "\\Device\\NPF_{CB1AE45E-1A34-4C48-87A9-2DA89DB03332}: 169.254.155.44\n"
     ]
    }
   ],
   "source": [
    "from scapy.all import *\n",
    "\n",
    "interfact = get_if_list()\n",
    "for inface in interfact:\n",
    "    print(f\"{inface}: {get_if_addr(inface)}\")"
   ]
  },
  {
   "cell_type": "code",
   "execution_count": 2,
   "metadata": {},
   "outputs": [
    {
     "name": "stdout",
     "output_type": "stream",
     "text": [
      "MAC Address\\Device\\NPF_{188A13B5-70F1-429B-BCB5-DDDF2877FA55}: 30:03:c8:48:b3:d7\n"
     ]
    }
   ],
   "source": [
    "iface = r\"\\Device\\NPF_{188A13B5-70F1-429B-BCB5-DDDF2877FA55}\"\n",
    "mac_addr = get_if_hwaddr(iface)\n",
    "print(f\"MAC Address{iface}: {mac_addr}\")"
   ]
  },
  {
   "cell_type": "code",
   "execution_count": null,
   "metadata": {},
   "outputs": [],
   "source": [
    "from scapy.all import sniff\n",
    "sniff(filter=\"tcp port 80\", count=5, prn=lambda x: x.summary())"
   ]
  },
  {
   "cell_type": "code",
   "execution_count": null,
   "metadata": {},
   "outputs": [
    {
     "ename": "NameError",
     "evalue": "name 'sniff' is not defined",
     "output_type": "error",
     "traceback": [
      "\u001b[1;31m---------------------------------------------------------------------------\u001b[0m",
      "\u001b[1;31mNameError\u001b[0m                                 Traceback (most recent call last)",
      "Cell \u001b[1;32mIn[5], line 2\u001b[0m\n\u001b[0;32m      1\u001b[0m \u001b[38;5;66;03m# Extract and print TCP header details from the first packet\u001b[39;00m\n\u001b[1;32m----> 2\u001b[0m packets \u001b[38;5;241m=\u001b[39m \u001b[43msniff\u001b[49m(\u001b[38;5;28mfilter\u001b[39m\u001b[38;5;241m=\u001b[39m\u001b[38;5;124m\"\u001b[39m\u001b[38;5;124mtcp\u001b[39m\u001b[38;5;124m\"\u001b[39m,count\u001b[38;5;241m=\u001b[39m\u001b[38;5;241m1\u001b[39m)  \u001b[38;5;66;03m# sniff is already imported in CELL INDEX 2\u001b[39;00m\n\u001b[0;32m      3\u001b[0m packet \u001b[38;5;241m=\u001b[39m packets[\u001b[38;5;241m0\u001b[39m]\n\u001b[0;32m      4\u001b[0m \u001b[38;5;28;01mif\u001b[39;00m \u001b[38;5;124m'\u001b[39m\u001b[38;5;124mTCP\u001b[39m\u001b[38;5;124m'\u001b[39m \u001b[38;5;129;01min\u001b[39;00m packet:\n",
      "\u001b[1;31mNameError\u001b[0m: name 'sniff' is not defined"
     ]
    }
   ],
   "source": [
    "# Extract and print TCP header details from the first packet\n",
    "packets = sniff(filter=\"tcp\",count=1)  # sniff is already imported in CELL INDEX 2\n",
    "packet = packets[0]\n",
    "if 'TCP' in packet:\n",
    "    print(f\"Source Port: {packet['TCP'].sport}\")\n",
    "    print(f\"Destination Port: {packet['TCP'].dport}\")\n",
    "    print(f\"Sequence Number: {packet['TCP'].seq}\")\n",
    "    print(f\"Acknowledgment Number: {packet['TCP'].ack}\")\n",
    "    print(f\"Flags: {packet['TCP'].flags}\")\n",
    "    print(f\"Window Size: {packet['TCP'].window}\")\n",
    "else:\n",
    "    print(\"No TCP packet found.\")\n"
   ]
  },
  {
   "cell_type": "code",
   "execution_count": null,
   "metadata": {},
   "outputs": [
    {
     "name": "stdout",
     "output_type": "stream",
     "text": [
      "Hash 1: 0844f3d44370e6e8a2b9042553cb01753423ec4b45d33e29a71ab83d09e435a4\n",
      "Hash 2: 0844f3d44370e6e8a2b9042553cb01753423ec4b45d33e29a71ab83d09e435a4\n"
     ]
    }
   ],
   "source": [
    "import hashlib\n",
    "\n",
    "data = \"Blockchain là công nghệ nền tảng\"\n",
    "data1 = \"blockchain là công nghệ nền tảng\"\n",
    "\n",
    "hash1 = hashlib.sha256(data.encode()).hexdigest()\n",
    "hash1 = hashlib.sha256(data1.encode()).hexdigest()\n",
    "\n",
    "print(f\"Hash 1: {hash1}\")\n",
    "print(f\"Hash 2: {hash1}\")\n"
   ]
  },
  {
   "cell_type": "code",
   "execution_count": null,
   "metadata": {},
   "outputs": [
    {
     "name": "stdout",
     "output_type": "stream",
     "text": [
      "Mã bam (hash) của khối: 0684e3d1ebc19a1650def1b49251e7f7c7154b469295d997aa887fb89c54f573\n"
     ]
    }
   ],
   "source": [
    "class Block:\n",
    "    def __init__(self,previous_hash,hash):\n",
    "        self.previous_hash = previous_hash\n",
    "        self.data = data\n",
    "        self.hash = self.calulate_hash()\n",
    "    def calulate_hash(self):\n",
    "        block_data = self.previous_hash + self.data\n",
    "        return hashlib.sha256(block_data.encode()).hexdigest()\n",
    "    \n",
    "block = Block (\"0000a7c8.....\", \"Transaction data example\")\n",
    "\n",
    "print(f\"Mã bam (hash) của khối: {block.hash}\")"
   ]
  },
  {
   "cell_type": "code",
   "execution_count": null,
   "metadata": {},
   "outputs": [
    {
     "name": "stdout",
     "output_type": "stream",
     "text": [
      "Version web3 7.10.0\n"
     ]
    }
   ],
   "source": [
    "import web3\n",
    "print('Version web3',web3.__version__)"
   ]
  },
  {
   "cell_type": "code",
   "execution_count": null,
   "metadata": {},
   "outputs": [
    {
     "name": "stdout",
     "output_type": "stream",
     "text": [
      "c:\\Users\\lee\\AppData\\Local\\Programs\\Python\\Python38\\python.exe\n"
     ]
    }
   ],
   "source": [
    "import sys\n",
    "print(sys.executable)\n"
   ]
  },
  {
   "cell_type": "code",
   "execution_count": null,
   "metadata": {},
   "outputs": [
    {
     "name": "stdout",
     "output_type": "stream",
     "text": [
      "Found existing installation: packaging 23.2\n",
      "Uninstalling packaging-23.2:\n",
      "  Successfully uninstalled packaging-23.2\n",
      "Collecting packaging==23.2\n",
      "  Using cached packaging-23.2-py3-none-any.whl.metadata (3.2 kB)\n",
      "Using cached packaging-23.2-py3-none-any.whl (53 kB)\n",
      "Installing collected packages: packaging\n",
      "Successfully installed packaging-23.2\n"
     ]
    }
   ],
   "source": [
    "import sys\n",
    "!{sys.executable} -m pip uninstall packaging -y\n",
    "!{sys.executable} -m pip install packaging==23.2 --force-reinstall\n"
   ]
  },
  {
   "cell_type": "code",
   "execution_count": null,
   "metadata": {},
   "outputs": [
    {
     "name": "stdout",
     "output_type": "stream",
     "text": [
      "C:\\Users\\lee\\AppData\\Roaming\\Python\\Python38\\site-packages\\packaging\\__init__.py\n"
     ]
    }
   ],
   "source": [
    "import packaging\n",
    "print(packaging.__file__)\n"
   ]
  },
  {
   "cell_type": "code",
   "execution_count": null,
   "metadata": {},
   "outputs": [],
   "source": [
    "from packaging.specifiers import SpecifierSet\n"
   ]
  },
  {
   "cell_type": "code",
   "execution_count": null,
   "metadata": {},
   "outputs": [
    {
     "data": {
      "text/plain": [
       "<Version('0.8.0')>"
      ]
     },
     "execution_count": 9,
     "metadata": {},
     "output_type": "execute_result"
    }
   ],
   "source": [
    "from solcx import install_solc\n",
    "install_solc('0.8.0')\n"
   ]
  },
  {
   "cell_type": "code",
   "execution_count": null,
   "metadata": {},
   "outputs": [],
   "source": [
    "from solcx import compile_standard\n",
    "\n",
    "compiled_sol = compile_standard({\n",
    "    \"language\": \"Solidity\",\n",
    "    \"sources\": {\n",
    "        \"Message.sol\": {\n",
    "            \"content\": \"\"\"\n",
    "            // SPDX-License-Identifier: MIT\n",
    "            pragma solidity ^0.8.0;\n",
    "\n",
    "            contract SimpleStorage {\n",
    "                uint256 storedData;\n",
    "\n",
    "                function set(uint256 x) public {\n",
    "                    storedData = x;\n",
    "                }\n",
    "\n",
    "                function get() public view returns (uint256) {\n",
    "                    return storedData;\n",
    "                }\n",
    "            }\n",
    "            \"\"\"\n",
    "        }\n",
    "    },\n",
    "    \"settings\": {\n",
    "        \"outputSelection\": {\n",
    "            \"*\": {\n",
    "                \"*\": [\"*\"]\n",
    "            }\n",
    "        }\n",
    "    }\n",
    "})"
   ]
  }
 ],
 "metadata": {
  "kernelspec": {
   "display_name": "Python 3",
   "language": "python",
   "name": "python3"
  },
  "language_info": {
   "codemirror_mode": {
    "name": "ipython",
    "version": 3
   },
   "file_extension": ".py",
   "mimetype": "text/x-python",
   "name": "python",
   "nbconvert_exporter": "python",
   "pygments_lexer": "ipython3",
   "version": "3.8.8"
  }
 },
 "nbformat": 4,
 "nbformat_minor": 2
}
